{
 "cells": [
  {
   "cell_type": "markdown",
   "metadata": {},
   "source": [
    "### Import Library"
   ]
  },
  {
   "cell_type": "code",
   "execution_count": 1,
   "metadata": {},
   "outputs": [],
   "source": [
    "import base64\n",
    "import json\n",
    "import random\n",
    "import pandas as pd\n",
    "import requests\n",
    "import tensorflow as tf"
   ]
  },
  {
   "cell_type": "markdown",
   "metadata": {},
   "source": [
    "### Load Dataset"
   ]
  },
  {
   "cell_type": "code",
   "execution_count": 2,
   "metadata": {},
   "outputs": [],
   "source": [
    "data_csv = pd.read_csv(\"data/heart.csv\")"
   ]
  },
  {
   "cell_type": "markdown",
   "metadata": {},
   "source": [
    "### Ambil data secara acak untuk prediksi\n",
    "\n",
    "\n",
    "Kode di bawah bertujuan untuk mengambil satu baris data secara acak dari sebuah DataFrame data_csv dan mengubahnya menjadi sebuah dictionary di mana kunci adalah nama kolom dan nilai adalah nilai dari baris tersebut. "
   ]
  },
  {
   "cell_type": "code",
   "execution_count": 3,
   "metadata": {},
   "outputs": [
    {
     "data": {
      "text/plain": [
       "{'Age': 54,\n",
       " 'Sex': 'M',\n",
       " 'ChestPainType': 'ASY',\n",
       " 'RestingBP': 200,\n",
       " 'Cholesterol': 198,\n",
       " 'FastingBS': 0,\n",
       " 'RestingECG': 'Normal',\n",
       " 'MaxHR': 142,\n",
       " 'ExerciseAngina': 'Y',\n",
       " 'Oldpeak': 2.0,\n",
       " 'ST_Slope': 'Flat',\n",
       " 'HeartDisease': 1}"
      ]
     },
     "execution_count": 3,
     "metadata": {},
     "output_type": "execute_result"
    }
   ],
   "source": [
    "columns = data_csv.columns.values\n",
    "rand = random.randint(0, len(data_csv) - 1)\n",
    "\n",
    "# Mengambil fitur\n",
    "features = data_csv.values[rand]\n",
    "\n",
    "# Membuat dictionary input\n",
    "inputs = {key: value for key, value in zip(columns, features)}\n",
    "inputs"
   ]
  },
  {
   "cell_type": "markdown",
   "metadata": {},
   "source": [
    "### Membuat helper Function untuk membuat TFRecord\n",
    "- string_feature(value): Mengonversi string menjadi fitur TFRecord dalam format byte.\n",
    "- float_feature(value): Mengonversi nilai float menjadi fitur TFRecord dalam format float list.\n",
    "- int_feature(value): Mengonversi nilai integer menjadi fitur TFRecord dalam format int64 list.\n",
    "Ketiga fungsi ini adalah helper functions yang memudahkan pembuatan fitur yang sesuai untuk disimpan dalam format TFRecord, yang kemudian dapat digunakan dalam pipeline pelatihan model TensorFlow."
   ]
  },
  {
   "cell_type": "code",
   "execution_count": 4,
   "metadata": {},
   "outputs": [],
   "source": [
    "def string_feature(value):\n",
    "    return tf.train.Feature(\n",
    "        bytes_list=tf.train.BytesList(value=[bytes(value, \"utf-8\")]),\n",
    "    )\n",
    "\n",
    "def float_feature(value):\n",
    "    return tf.train.Feature(\n",
    "        float_list=tf.train.FloatList(value=[value]),\n",
    "    )\n",
    "\n",
    "def int_feature(value):\n",
    "    return tf.train.Feature(\n",
    "        int64_list=tf.train.Int64List(value=[value]),\n",
    "    )"
   ]
  },
  {
   "cell_type": "markdown",
   "metadata": {},
   "source": [
    "Fungsi def prepare_json di bawah akan mengonversi data dari format dictionary ke format yang diperlukan untuk mengirimkan data ke model TensorFlow Serving melalui HTTP API. Data yang dikirim dalam format JSON ini berisi data yang telah di-encode ke dalam format TFRecord dan dikodekan dalam base64."
   ]
  },
  {
   "cell_type": "code",
   "execution_count": 5,
   "metadata": {},
   "outputs": [],
   "source": [
    "def prepare_json(inputs: dict):\n",
    "    feature_spec = dict()\n",
    "\n",
    "    for keys, values in inputs.items():\n",
    "        if isinstance(values, str):\n",
    "            feature_spec[keys] = string_feature(values)\n",
    "        elif isinstance(values, float):\n",
    "            feature_spec[keys] = float_feature(values)\n",
    "        else:\n",
    "            feature_spec[keys] = int_feature(values)\n",
    "\n",
    "    example = tf.train.Example(\n",
    "        features=tf.train.Features(feature=feature_spec)\n",
    "    ).SerializeToString()\n",
    "\n",
    "    result = [{\"examples\": {\"b64\": base64.b64encode(example).decode()}}]\n",
    "\n",
    "    return json.dumps(\n",
    "        {\n",
    "            \"signature_name\": \"serving_default\",\n",
    "            \"instances\": result,\n",
    "        }\n",
    "    )"
   ]
  },
  {
   "cell_type": "markdown",
   "metadata": {},
   "source": [
    "### Melakukan prediksi"
   ]
  },
  {
   "cell_type": "code",
   "execution_count": 6,
   "metadata": {},
   "outputs": [],
   "source": [
    "def make_predictions(inputs):\n",
    "    json_data = prepare_json(inputs)\n",
    "\n",
    "    endpoint = \"https://heart-failure-pred-production.up.railway.app/v1/models/heartpred-model:predict\"\n",
    "    response = requests.post(endpoint, data=json_data, headers={\"Content-Type\": \"application/json\"})\n",
    "    prediction = response.json()[\"predictions\"][0][0]\n",
    "\n",
    "    if prediction < 0.5:\n",
    "        return \"Pasien tidak mengalami penyakit jantung\"\n",
    "    else:\n",
    "        return \"Pasien mengalami penyakit jantung\""
   ]
  },
  {
   "cell_type": "code",
   "execution_count": 7,
   "metadata": {},
   "outputs": [
    {
     "name": "stdout",
     "output_type": "stream",
     "text": [
      "Fitur Input: {'Age': 54, 'Sex': 'M', 'ChestPainType': 'ASY', 'RestingBP': 200, 'Cholesterol': 198, 'FastingBS': 0, 'RestingECG': 'Normal', 'MaxHR': 142, 'ExerciseAngina': 'Y', 'Oldpeak': 2.0, 'ST_Slope': 'Flat', 'HeartDisease': 1}\n",
      "Hasil Prediksi: Pasien mengalami penyakit jantung\n"
     ]
    }
   ],
   "source": [
    "# Menampilkan hasil prediksi\n",
    "hasil_prediksi = make_predictions(inputs)\n",
    "print('Fitur Input:', inputs)\n",
    "print(f'Hasil Prediksi: {hasil_prediksi}')"
   ]
  }
 ],
 "metadata": {
  "kernelspec": {
   "display_name": "venv-mlops2",
   "language": "python",
   "name": "python3"
  },
  "language_info": {
   "codemirror_mode": {
    "name": "ipython",
    "version": 3
   },
   "file_extension": ".py",
   "mimetype": "text/x-python",
   "name": "python",
   "nbconvert_exporter": "python",
   "pygments_lexer": "ipython3",
   "version": "3.8.10"
  }
 },
 "nbformat": 4,
 "nbformat_minor": 2
}
